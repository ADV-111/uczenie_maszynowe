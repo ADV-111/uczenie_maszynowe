{
  "nbformat": 4,
  "nbformat_minor": 0,
  "metadata": {
    "colab": {
      "name": "Untitled49.ipynb",
      "version": "0.3.2",
      "provenance": [],
      "include_colab_link": true
    },
    "kernelspec": {
      "name": "python3",
      "display_name": "Python 3"
    }
  },
  "cells": [
    {
      "cell_type": "markdown",
      "metadata": {
        "id": "view-in-github",
        "colab_type": "text"
      },
      "source": [
        "<a href=\"https://colab.research.google.com/github/krakowiakpawel9/decision_tree_course/blob/master/02_wska%C5%BAnik_Giniego.ipynb\" target=\"_parent\"><img src=\"https://colab.research.google.com/assets/colab-badge.svg\" alt=\"Open In Colab\"/></a>"
      ]
    },
    {
      "cell_type": "markdown",
      "metadata": {
        "id": "kMsDHWyz2ITv",
        "colab_type": "text"
      },
      "source": [
        "### Drzewa Decyzyjne"
      ]
    },
    {
      "cell_type": "code",
      "metadata": {
        "id": "siCymeHky2ei",
        "colab_type": "code",
        "colab": {}
      },
      "source": [
        "import matplotlib.pyplot as plt\n",
        "import seaborn as sns\n",
        "from sklearn.datasets import load_iris\n",
        "from sklearn.tree import DecisionTreeClassifier\n",
        "sns.set()"
      ],
      "execution_count": 0,
      "outputs": []
    },
    {
      "cell_type": "code",
      "metadata": {
        "id": "xA7yhL3zy-TD",
        "colab_type": "code",
        "colab": {}
      },
      "source": [
        "iris = load_iris()\n",
        "X = iris.data[:, [2, 3]]\n",
        "y = iris.target\n",
        "names = iris.feature_names[2:]"
      ],
      "execution_count": 0,
      "outputs": []
    },
    {
      "cell_type": "code",
      "metadata": {
        "id": "NocAY2ihC-Ut",
        "colab_type": "code",
        "colab": {
          "base_uri": "https://localhost:8080/",
          "height": 34
        },
        "outputId": "f6ff37ca-26e8-4f58-8768-a1dc45604220"
      },
      "source": [
        "print('Liczba próbek:', len(X))"
      ],
      "execution_count": 3,
      "outputs": [
        {
          "output_type": "stream",
          "text": [
            "Liczba próbek: 150\n"
          ],
          "name": "stdout"
        }
      ]
    },
    {
      "cell_type": "code",
      "metadata": {
        "id": "h0j7OleezFTM",
        "colab_type": "code",
        "colab": {
          "base_uri": "https://localhost:8080/",
          "height": 102
        },
        "outputId": "8a2ca572-b895-4c03-cc30-a33ed449b33a"
      },
      "source": [
        "X[:5]"
      ],
      "execution_count": 4,
      "outputs": [
        {
          "output_type": "execute_result",
          "data": {
            "text/plain": [
              "array([[1.4, 0.2],\n",
              "       [1.4, 0.2],\n",
              "       [1.3, 0.2],\n",
              "       [1.5, 0.2],\n",
              "       [1.4, 0.2]])"
            ]
          },
          "metadata": {
            "tags": []
          },
          "execution_count": 4
        }
      ]
    },
    {
      "cell_type": "code",
      "metadata": {
        "id": "ZQhr7XaNzH3f",
        "colab_type": "code",
        "colab": {
          "base_uri": "https://localhost:8080/",
          "height": 34
        },
        "outputId": "6c476b15-1dac-482c-ff17-a262e8c66d1a"
      },
      "source": [
        "y[:5]"
      ],
      "execution_count": 5,
      "outputs": [
        {
          "output_type": "execute_result",
          "data": {
            "text/plain": [
              "array([0, 0, 0, 0, 0])"
            ]
          },
          "metadata": {
            "tags": []
          },
          "execution_count": 5
        }
      ]
    },
    {
      "cell_type": "code",
      "metadata": {
        "id": "jfdKMmK-8kj8",
        "colab_type": "code",
        "colab": {
          "base_uri": "https://localhost:8080/",
          "height": 34
        },
        "outputId": "e2f939c2-41c3-4c5e-9e51-55062181fad2"
      },
      "source": [
        "iris.target_names"
      ],
      "execution_count": 6,
      "outputs": [
        {
          "output_type": "execute_result",
          "data": {
            "text/plain": [
              "array(['setosa', 'versicolor', 'virginica'], dtype='<U10')"
            ]
          },
          "metadata": {
            "tags": []
          },
          "execution_count": 6
        }
      ]
    },
    {
      "cell_type": "code",
      "metadata": {
        "id": "qlOfznek5kND",
        "colab_type": "code",
        "colab": {
          "base_uri": "https://localhost:8080/",
          "height": 34
        },
        "outputId": "73fd6d01-44f4-4f19-a5b5-3e456c05cd20"
      },
      "source": [
        "names"
      ],
      "execution_count": 7,
      "outputs": [
        {
          "output_type": "execute_result",
          "data": {
            "text/plain": [
              "['petal length (cm)', 'petal width (cm)']"
            ]
          },
          "metadata": {
            "tags": []
          },
          "execution_count": 7
        }
      ]
    },
    {
      "cell_type": "markdown",
      "metadata": {
        "id": "wB1nxTZh2PKX",
        "colab_type": "text"
      },
      "source": [
        "### Budowa klasyfikatora drzewa decyzyjnego\n",
        "- max_depth=1\n"
      ]
    },
    {
      "cell_type": "code",
      "metadata": {
        "id": "YhWDIgQkzK0t",
        "colab_type": "code",
        "colab": {
          "base_uri": "https://localhost:8080/",
          "height": 119
        },
        "outputId": "080fb93e-d90e-4ad0-d0c2-65aba7703d3c"
      },
      "source": [
        "tree_clf = DecisionTreeClassifier(max_depth=2, random_state=30)\n",
        "tree_clf.fit(X, y)"
      ],
      "execution_count": 8,
      "outputs": [
        {
          "output_type": "execute_result",
          "data": {
            "text/plain": [
              "DecisionTreeClassifier(class_weight=None, criterion='gini', max_depth=2,\n",
              "                       max_features=None, max_leaf_nodes=None,\n",
              "                       min_impurity_decrease=0.0, min_impurity_split=None,\n",
              "                       min_samples_leaf=1, min_samples_split=2,\n",
              "                       min_weight_fraction_leaf=0.0, presort=False,\n",
              "                       random_state=30, splitter='best')"
            ]
          },
          "metadata": {
            "tags": []
          },
          "execution_count": 8
        }
      ]
    },
    {
      "cell_type": "markdown",
      "metadata": {
        "id": "WD7laHw82aJ9",
        "colab_type": "text"
      },
      "source": [
        "### Wykreślenie granic decyzyjnych"
      ]
    },
    {
      "cell_type": "code",
      "metadata": {
        "id": "u2WNkLHg012H",
        "colab_type": "code",
        "colab": {
          "base_uri": "https://localhost:8080/",
          "height": 644
        },
        "outputId": "d93372f7-a8ec-4477-e53b-38f566147d7c"
      },
      "source": [
        "from mlxtend.plotting import plot_decision_regions\n",
        "\n",
        "colors='#f1865b,#31c30f,#64647F,#d62728,#9467bd,#8c564b,#e377c2,#7f7f7f,#bcbd22,#17becf'\n",
        "\n",
        "plt.figure(figsize=(12, 10))\n",
        "plot_decision_regions(X, y, tree_clf, legend=2, colors=colors)\n",
        "plt.xlabel('petal length (cm)')\n",
        "plt.ylabel('petal width (cm)')\n",
        "plt.title('Drzewo decyzyjne: max_depth=1')"
      ],
      "execution_count": 9,
      "outputs": [
        {
          "output_type": "execute_result",
          "data": {
            "text/plain": [
              "Text(0.5, 1.0, 'Drzewo decyzyjne: max_depth=1')"
            ]
          },
          "metadata": {
            "tags": []
          },
          "execution_count": 9
        },
        {
          "output_type": "display_data",
          "data": {
            "image/png": "[encoded data removed]",
            "text/plain": [
              "<Figure size 864x720 with 1 Axes>"
            ]
          },
          "metadata": {
            "tags": []
          }
        }
      ]
    },
    {
      "cell_type": "code",
      "metadata": {
        "id": "PVOyFqPJBNAe",
        "colab_type": "code",
        "colab": {
          "base_uri": "https://localhost:8080/",
          "height": 34
        },
        "outputId": "99d5604d-831e-4494-a8c3-de266f245d48"
      },
      "source": [
        "print('Dokładność modelu: ' + str(round(tree_clf.score(X, y), 4) * 100) + '%')"
      ],
      "execution_count": 10,
      "outputs": [
        {
          "output_type": "stream",
          "text": [
            "Dokładność modelu: 96.0%\n"
          ],
          "name": "stdout"
        }
      ]
    },
    {
      "cell_type": "markdown",
      "metadata": {
        "id": "n7THqtLf2WUG",
        "colab_type": "text"
      },
      "source": [
        "### Utworzenie grafu drzewa"
      ]
    },
    {
      "cell_type": "code",
      "metadata": {
        "id": "EQrarlP_zTb1",
        "colab_type": "code",
        "colab": {}
      },
      "source": [
        "from sklearn.tree import export_graphviz\n",
        "\n",
        "export_graphviz(tree_clf,\n",
        "               out_file='iris_tree.dot',\n",
        "               feature_names=iris.feature_names[2:],\n",
        "               class_names=iris.target_names,\n",
        "               rounded=True,\n",
        "               filled=True)"
      ],
      "execution_count": 0,
      "outputs": []
    },
    {
      "cell_type": "markdown",
      "metadata": {
        "id": "_r1Sn_8G0IB8",
        "colab_type": "text"
      },
      "source": [
        "### Przekonwertowanie pliku .dot na plik .png"
      ]
    },
    {
      "cell_type": "code",
      "metadata": {
        "id": "tfFt2wT0zasP",
        "colab_type": "code",
        "colab": {}
      },
      "source": [
        "%%bash\n",
        "dot -Tpng iris_tree.dot -o iris_tree_1.png"
      ],
      "execution_count": 0,
      "outputs": []
    },
    {
      "cell_type": "markdown",
      "metadata": {
        "id": "YPXAeGf87M9f",
        "colab_type": "text"
      },
      "source": [
        "<img src='https://ml-repository-krakers.s3-eu-west-1.amazonaws.com/decision_tree_course/graphs/iris_tree_2.png' width=350>"
      ]
    },
    {
      "cell_type": "markdown",
      "metadata": {
        "id": "v8cd8oJCJ1r5",
        "colab_type": "text"
      },
      "source": [
        "### Wskaźnik Giniego\n",
        "Miara zanieczyszczenia\n",
        "- węzeł jest czysty (wszystkie próbki w węźle należą do tej samej klasy), gdy Gini = 0\n",
        "\n",
        "$$G_i = 1 - \\sum_{k=1}^{n}p_{i,k}^{2}$$\n",
        "\n",
        "$p_{i, k}$ - współczynnik występowania klas k wśród próbek uczących w $i$-tym węźle\n",
        "\n",
        "#### korzeń (root)"
      ]
    },
    {
      "cell_type": "code",
      "metadata": {
        "id": "GNxy9-LVJ3Sw",
        "colab_type": "code",
        "colab": {
          "base_uri": "https://localhost:8080/",
          "height": 34
        },
        "outputId": "6b839102-d6da-4dc4-9bcd-ee37aef6206d"
      },
      "source": [
        "1 - (50 / 150)**2 - (50 / 150)**2 - (50 / 150)**2"
      ],
      "execution_count": 13,
      "outputs": [
        {
          "output_type": "execute_result",
          "data": {
            "text/plain": [
              "0.6666666666666665"
            ]
          },
          "metadata": {
            "tags": []
          },
          "execution_count": 13
        }
      ]
    },
    {
      "cell_type": "markdown",
      "metadata": {
        "id": "OI955XNsLbl2",
        "colab_type": "text"
      },
      "source": [
        "#### wezęł lewy, poziom 1"
      ]
    },
    {
      "cell_type": "code",
      "metadata": {
        "id": "KdcEiVswK8uG",
        "colab_type": "code",
        "colab": {
          "base_uri": "https://localhost:8080/",
          "height": 34
        },
        "outputId": "0686425c-f6fc-432a-9e9d-aced326737bb"
      },
      "source": [
        "1 - (50 / 50)**2 - (0 / 50)**2 - (0 / 50)**2"
      ],
      "execution_count": 14,
      "outputs": [
        {
          "output_type": "execute_result",
          "data": {
            "text/plain": [
              "0.0"
            ]
          },
          "metadata": {
            "tags": []
          },
          "execution_count": 14
        }
      ]
    },
    {
      "cell_type": "markdown",
      "metadata": {
        "id": "hYWHbVUFLhsu",
        "colab_type": "text"
      },
      "source": [
        "#### węzeł prawy, poziom 1"
      ]
    },
    {
      "cell_type": "code",
      "metadata": {
        "id": "Di28pC4kLTGT",
        "colab_type": "code",
        "colab": {
          "base_uri": "https://localhost:8080/",
          "height": 34
        },
        "outputId": "c04527c4-b05d-4d3d-d218-1342465eca82"
      },
      "source": [
        "1 - (0 / 100)**2 - (50 / 100)**2 - (50 / 100)**2"
      ],
      "execution_count": 15,
      "outputs": [
        {
          "output_type": "execute_result",
          "data": {
            "text/plain": [
              "0.5"
            ]
          },
          "metadata": {
            "tags": []
          },
          "execution_count": 15
        }
      ]
    },
    {
      "cell_type": "markdown",
      "metadata": {
        "id": "llHcg92dLvB2",
        "colab_type": "text"
      },
      "source": [
        "#### węzeł lewy, poziom 2"
      ]
    },
    {
      "cell_type": "code",
      "metadata": {
        "id": "TFQMwgsLLtHF",
        "colab_type": "code",
        "colab": {
          "base_uri": "https://localhost:8080/",
          "height": 34
        },
        "outputId": "18b80fef-6094-409a-b97c-f23dc3a81117"
      },
      "source": [
        "1 - (0 / 54)**2 - (49 / 54)**2 - (5 / 54)**2"
      ],
      "execution_count": 16,
      "outputs": [
        {
          "output_type": "execute_result",
          "data": {
            "text/plain": [
              "0.1680384087791495"
            ]
          },
          "metadata": {
            "tags": []
          },
          "execution_count": 16
        }
      ]
    },
    {
      "cell_type": "markdown",
      "metadata": {
        "id": "tYoiV5frMA4K",
        "colab_type": "text"
      },
      "source": [
        "#### węzeł prawy, poziom 2"
      ]
    },
    {
      "cell_type": "code",
      "metadata": {
        "id": "EfrXmZwwL4Ww",
        "colab_type": "code",
        "colab": {
          "base_uri": "https://localhost:8080/",
          "height": 34
        },
        "outputId": "2d778a19-8330-481c-af05-1ca46646a3c6"
      },
      "source": [
        "1 - (0 / 46)**2 - (1 / 46)**2 - (45 / 46)**2"
      ],
      "execution_count": 17,
      "outputs": [
        {
          "output_type": "execute_result",
          "data": {
            "text/plain": [
              "0.04253308128544431"
            ]
          },
          "metadata": {
            "tags": []
          },
          "execution_count": 17
        }
      ]
    }
  ]
}