{
  "nbformat": 4,
  "nbformat_minor": 0,
  "metadata": {
    "colab": {
      "name": "Untitled48.ipynb",
      "version": "0.3.2",
      "provenance": [],
      "include_colab_link": true
    },
    "kernelspec": {
      "name": "python3",
      "display_name": "Python 3"
    }
  },
  "cells": [
    {
      "cell_type": "markdown",
      "metadata": {
        "id": "view-in-github",
        "colab_type": "text"
      },
      "source": [
        "<a href=\"https://colab.research.google.com/github/krakowiakpawel9/uczenie_maszynowe/blob/master/random_forest/03_stock_prediction.ipynb\" target=\"_parent\"><img src=\"https://colab.research.google.com/assets/colab-badge.svg\" alt=\"Open In Colab\"/></a>"
      ]
    },
    {
      "cell_type": "code",
      "metadata": {
        "id": "0Rasdp5zGnQn",
        "colab_type": "code",
        "colab": {}
      },
      "source": [
        "import pandas_datareader"
      ],
      "execution_count": 0,
      "outputs": []
    },
    {
      "cell_type": "code",
      "metadata": {
        "id": "ZPOPc9sVHadc",
        "colab_type": "code",
        "colab": {}
      },
      "source": [
        "data = pandas_datareader.stooq.StooqDailyReader('AMZN').read()"
      ],
      "execution_count": 0,
      "outputs": []
    },
    {
      "cell_type": "code",
      "metadata": {
        "id": "ncPe4WPyHlNN",
        "colab_type": "code",
        "colab": {}
      },
      "source": [
        "df = data.copy()"
      ],
      "execution_count": 0,
      "outputs": []
    },
    {
      "cell_type": "code",
      "metadata": {
        "id": "WByJRkhWH-vX",
        "colab_type": "code",
        "colab": {
          "base_uri": "https://localhost:8080/",
          "height": 227
        },
        "outputId": "359f29cd-b9d7-4b06-b8c5-ac3880363e39"
      },
      "source": [
        "df.head()"
      ],
      "execution_count": 14,
      "outputs": [
        {
          "output_type": "execute_result",
          "data": {
            "text/html": [
              "<div>\n",
              "<style scoped>\n",
              "    .dataframe tbody tr th:only-of-type {\n",
              "        vertical-align: middle;\n",
              "    }\n",
              "\n",
              "    .dataframe tbody tr th {\n",
              "        vertical-align: top;\n",
              "    }\n",
              "\n",
              "    .dataframe thead th {\n",
              "        text-align: right;\n",
              "    }\n",
              "</style>\n",
              "<table border=\"1\" class=\"dataframe\">\n",
              "  <thead>\n",
              "    <tr style=\"text-align: right;\">\n",
              "      <th></th>\n",
              "      <th>Open</th>\n",
              "      <th>High</th>\n",
              "      <th>Low</th>\n",
              "      <th>Close</th>\n",
              "      <th>Volume</th>\n",
              "    </tr>\n",
              "    <tr>\n",
              "      <th>Date</th>\n",
              "      <th></th>\n",
              "      <th></th>\n",
              "      <th></th>\n",
              "      <th></th>\n",
              "      <th></th>\n",
              "    </tr>\n",
              "  </thead>\n",
              "  <tbody>\n",
              "    <tr>\n",
              "      <th>2019-07-26</th>\n",
              "      <td>1942.00</td>\n",
              "      <td>1950.90</td>\n",
              "      <td>1924.51</td>\n",
              "      <td>1943.05</td>\n",
              "      <td>4927143.0</td>\n",
              "    </tr>\n",
              "    <tr>\n",
              "      <th>2019-07-25</th>\n",
              "      <td>2001.00</td>\n",
              "      <td>2001.20</td>\n",
              "      <td>1972.72</td>\n",
              "      <td>1973.82</td>\n",
              "      <td>4136461.0</td>\n",
              "    </tr>\n",
              "    <tr>\n",
              "      <th>2019-07-24</th>\n",
              "      <td>1969.30</td>\n",
              "      <td>2001.30</td>\n",
              "      <td>1965.87</td>\n",
              "      <td>2000.81</td>\n",
              "      <td>2631300.0</td>\n",
              "    </tr>\n",
              "    <tr>\n",
              "      <th>2019-07-23</th>\n",
              "      <td>1995.99</td>\n",
              "      <td>1997.79</td>\n",
              "      <td>1973.13</td>\n",
              "      <td>1994.49</td>\n",
              "      <td>2703480.0</td>\n",
              "    </tr>\n",
              "    <tr>\n",
              "      <th>2019-07-22</th>\n",
              "      <td>1971.14</td>\n",
              "      <td>1989.00</td>\n",
              "      <td>1958.26</td>\n",
              "      <td>1985.63</td>\n",
              "      <td>2908111.0</td>\n",
              "    </tr>\n",
              "  </tbody>\n",
              "</table>\n",
              "</div>"
            ],
            "text/plain": [
              "               Open     High      Low    Close     Volume\n",
              "Date                                                     \n",
              "2019-07-26  1942.00  1950.90  1924.51  1943.05  4927143.0\n",
              "2019-07-25  2001.00  2001.20  1972.72  1973.82  4136461.0\n",
              "2019-07-24  1969.30  2001.30  1965.87  2000.81  2631300.0\n",
              "2019-07-23  1995.99  1997.79  1973.13  1994.49  2703480.0\n",
              "2019-07-22  1971.14  1989.00  1958.26  1985.63  2908111.0"
            ]
          },
          "metadata": {
            "tags": []
          },
          "execution_count": 14
        }
      ]
    },
    {
      "cell_type": "code",
      "metadata": {
        "id": "8ccKKogTM9oe",
        "colab_type": "code",
        "colab": {
          "base_uri": "https://localhost:8080/",
          "height": 227
        },
        "outputId": "94b15e1f-5842-4d63-fbab-9040726db8b7"
      },
      "source": [
        "df.tail()"
      ],
      "execution_count": 19,
      "outputs": [
        {
          "output_type": "execute_result",
          "data": {
            "text/html": [
              "<div>\n",
              "<style scoped>\n",
              "    .dataframe tbody tr th:only-of-type {\n",
              "        vertical-align: middle;\n",
              "    }\n",
              "\n",
              "    .dataframe tbody tr th {\n",
              "        vertical-align: top;\n",
              "    }\n",
              "\n",
              "    .dataframe thead th {\n",
              "        text-align: right;\n",
              "    }\n",
              "</style>\n",
              "<table border=\"1\" class=\"dataframe\">\n",
              "  <thead>\n",
              "    <tr style=\"text-align: right;\">\n",
              "      <th></th>\n",
              "      <th>Open</th>\n",
              "      <th>High</th>\n",
              "      <th>Low</th>\n",
              "      <th>Close</th>\n",
              "      <th>Volume</th>\n",
              "    </tr>\n",
              "    <tr>\n",
              "      <th>Date</th>\n",
              "      <th></th>\n",
              "      <th></th>\n",
              "      <th></th>\n",
              "      <th></th>\n",
              "      <th></th>\n",
              "    </tr>\n",
              "  </thead>\n",
              "  <tbody>\n",
              "    <tr>\n",
              "      <th>2010-01-08</th>\n",
              "      <td>130.70</td>\n",
              "      <td>133.68</td>\n",
              "      <td>129.03</td>\n",
              "      <td>133.52</td>\n",
              "      <td>9826568.0</td>\n",
              "    </tr>\n",
              "    <tr>\n",
              "      <th>2010-01-07</th>\n",
              "      <td>131.96</td>\n",
              "      <td>132.32</td>\n",
              "      <td>128.80</td>\n",
              "      <td>130.00</td>\n",
              "      <td>11014197.0</td>\n",
              "    </tr>\n",
              "    <tr>\n",
              "      <th>2010-01-06</th>\n",
              "      <td>134.63</td>\n",
              "      <td>134.73</td>\n",
              "      <td>131.65</td>\n",
              "      <td>132.25</td>\n",
              "      <td>7178209.0</td>\n",
              "    </tr>\n",
              "    <tr>\n",
              "      <th>2010-01-05</th>\n",
              "      <td>133.25</td>\n",
              "      <td>135.48</td>\n",
              "      <td>131.81</td>\n",
              "      <td>134.69</td>\n",
              "      <td>8851066.0</td>\n",
              "    </tr>\n",
              "    <tr>\n",
              "      <th>2010-01-04</th>\n",
              "      <td>136.28</td>\n",
              "      <td>136.61</td>\n",
              "      <td>133.14</td>\n",
              "      <td>133.90</td>\n",
              "      <td>7595995.0</td>\n",
              "    </tr>\n",
              "  </tbody>\n",
              "</table>\n",
              "</div>"
            ],
            "text/plain": [
              "              Open    High     Low   Close      Volume\n",
              "Date                                                  \n",
              "2010-01-08  130.70  133.68  129.03  133.52   9826568.0\n",
              "2010-01-07  131.96  132.32  128.80  130.00  11014197.0\n",
              "2010-01-06  134.63  134.73  131.65  132.25   7178209.0\n",
              "2010-01-05  133.25  135.48  131.81  134.69   8851066.0\n",
              "2010-01-04  136.28  136.61  133.14  133.90   7595995.0"
            ]
          },
          "metadata": {
            "tags": []
          },
          "execution_count": 19
        }
      ]
    },
    {
      "cell_type": "code",
      "metadata": {
        "id": "Ce2YgUUeH_16",
        "colab_type": "code",
        "colab": {
          "base_uri": "https://localhost:8080/",
          "height": 287
        },
        "outputId": "4f170f5c-c5a2-47cb-a0b4-a7edb35422dd"
      },
      "source": [
        "df.describe().apply(lambda x: round(x, 2))"
      ],
      "execution_count": 16,
      "outputs": [
        {
          "output_type": "execute_result",
          "data": {
            "text/html": [
              "<div>\n",
              "<style scoped>\n",
              "    .dataframe tbody tr th:only-of-type {\n",
              "        vertical-align: middle;\n",
              "    }\n",
              "\n",
              "    .dataframe tbody tr th {\n",
              "        vertical-align: top;\n",
              "    }\n",
              "\n",
              "    .dataframe thead th {\n",
              "        text-align: right;\n",
              "    }\n",
              "</style>\n",
              "<table border=\"1\" class=\"dataframe\">\n",
              "  <thead>\n",
              "    <tr style=\"text-align: right;\">\n",
              "      <th></th>\n",
              "      <th>Open</th>\n",
              "      <th>High</th>\n",
              "      <th>Low</th>\n",
              "      <th>Close</th>\n",
              "      <th>Volume</th>\n",
              "    </tr>\n",
              "  </thead>\n",
              "  <tbody>\n",
              "    <tr>\n",
              "      <th>count</th>\n",
              "      <td>2407.00</td>\n",
              "      <td>2407.00</td>\n",
              "      <td>2407.00</td>\n",
              "      <td>2407.00</td>\n",
              "      <td>2406.00</td>\n",
              "    </tr>\n",
              "    <tr>\n",
              "      <th>mean</th>\n",
              "      <td>626.17</td>\n",
              "      <td>632.36</td>\n",
              "      <td>619.06</td>\n",
              "      <td>626.06</td>\n",
              "      <td>4528455.57</td>\n",
              "    </tr>\n",
              "    <tr>\n",
              "      <th>std</th>\n",
              "      <td>542.61</td>\n",
              "      <td>547.56</td>\n",
              "      <td>536.44</td>\n",
              "      <td>542.25</td>\n",
              "      <td>2897285.71</td>\n",
              "    </tr>\n",
              "    <tr>\n",
              "      <th>min</th>\n",
              "      <td>105.93</td>\n",
              "      <td>111.29</td>\n",
              "      <td>105.80</td>\n",
              "      <td>108.61</td>\n",
              "      <td>986435.00</td>\n",
              "    </tr>\n",
              "    <tr>\n",
              "      <th>25%</th>\n",
              "      <td>223.92</td>\n",
              "      <td>226.60</td>\n",
              "      <td>220.22</td>\n",
              "      <td>223.14</td>\n",
              "      <td>2746269.50</td>\n",
              "    </tr>\n",
              "    <tr>\n",
              "      <th>50%</th>\n",
              "      <td>359.98</td>\n",
              "      <td>364.75</td>\n",
              "      <td>356.43</td>\n",
              "      <td>360.62</td>\n",
              "      <td>3810219.00</td>\n",
              "    </tr>\n",
              "    <tr>\n",
              "      <th>75%</th>\n",
              "      <td>849.92</td>\n",
              "      <td>853.41</td>\n",
              "      <td>845.54</td>\n",
              "      <td>848.78</td>\n",
              "      <td>5351425.00</td>\n",
              "    </tr>\n",
              "    <tr>\n",
              "      <th>max</th>\n",
              "      <td>2038.11</td>\n",
              "      <td>2050.50</td>\n",
              "      <td>2013.00</td>\n",
              "      <td>2039.51</td>\n",
              "      <td>42396643.00</td>\n",
              "    </tr>\n",
              "  </tbody>\n",
              "</table>\n",
              "</div>"
            ],
            "text/plain": [
              "          Open     High      Low    Close       Volume\n",
              "count  2407.00  2407.00  2407.00  2407.00      2406.00\n",
              "mean    626.17   632.36   619.06   626.06   4528455.57\n",
              "std     542.61   547.56   536.44   542.25   2897285.71\n",
              "min     105.93   111.29   105.80   108.61    986435.00\n",
              "25%     223.92   226.60   220.22   223.14   2746269.50\n",
              "50%     359.98   364.75   356.43   360.62   3810219.00\n",
              "75%     849.92   853.41   845.54   848.78   5351425.00\n",
              "max    2038.11  2050.50  2013.00  2039.51  42396643.00"
            ]
          },
          "metadata": {
            "tags": []
          },
          "execution_count": 16
        }
      ]
    },
    {
      "cell_type": "code",
      "metadata": {
        "id": "RZ4GXWnoIBfH",
        "colab_type": "code",
        "colab": {
          "base_uri": "https://localhost:8080/",
          "height": 123
        },
        "outputId": "e590a19b-e66f-4199-899f-7ba985affb78"
      },
      "source": [
        "df = df.dropna()\n",
        "df.isnull().sum()"
      ],
      "execution_count": 21,
      "outputs": [
        {
          "output_type": "execute_result",
          "data": {
            "text/plain": [
              "Open      0\n",
              "High      0\n",
              "Low       0\n",
              "Close     0\n",
              "Volume    0\n",
              "dtype: int64"
            ]
          },
          "metadata": {
            "tags": []
          },
          "execution_count": 21
        }
      ]
    },
    {
      "cell_type": "code",
      "metadata": {
        "id": "iWl50AUwPSlM",
        "colab_type": "code",
        "colab": {}
      },
      "source": [
        "df = df.sort_index()"
      ],
      "execution_count": 0,
      "outputs": []
    },
    {
      "cell_type": "code",
      "metadata": {
        "id": "bQnOABmVTBTF",
        "colab_type": "code",
        "colab": {}
      },
      "source": [
        "#df = df.reset_index()\n",
        "df_train = df[df['Date'] < '2018-01-01']\n",
        "df_test = df[df['Date'] > '2018-01-01']\n"
      ],
      "execution_count": 0,
      "outputs": []
    },
    {
      "cell_type": "code",
      "metadata": {
        "id": "hVYALwvVIL6P",
        "colab_type": "code",
        "colab": {
          "base_uri": "https://localhost:8080/",
          "height": 273
        },
        "outputId": "aef00b54-9af6-4ebe-d7b0-fc3e50279afc"
      },
      "source": [
        "close = df_train['Close']\n",
        "volume = df['Volume']\n",
        "\n",
        "import matplotlib.pyplot as plt\n",
        "import seaborn as sns\n",
        "sns.set()\n",
        "\n",
        "plt.plot(df_train['Date'], close)\n",
        "plt.yscale('log')"
      ],
      "execution_count": 63,
      "outputs": [
        {
          "output_type": "display_data",
          "data": {
            "image/png": "[encoded data removed]",
            "text/plain": [
              "<Figure size 432x288 with 1 Axes>"
            ]
          },
          "metadata": {
            "tags": []
          }
        }
      ]
    },
    {
      "cell_type": "code",
      "metadata": {
        "id": "BrJHQz9pPK-z",
        "colab_type": "code",
        "colab": {
          "base_uri": "https://localhost:8080/",
          "height": 141
        },
        "outputId": "3f3a7038-eda9-4909-a08e-25ad7efe2c82"
      },
      "source": [
        "from sklearn.ensemble import RandomForestRegressor\n",
        "\n",
        "forest = RandomForestRegressor(n_estimators=30, min_samples_leaf=30)\n",
        "forest.fit(df_train['Date'].values.reshape(-1, 1), close)"
      ],
      "execution_count": 67,
      "outputs": [
        {
          "output_type": "execute_result",
          "data": {
            "text/plain": [
              "RandomForestRegressor(bootstrap=True, criterion='mse', max_depth=None,\n",
              "                      max_features='auto', max_leaf_nodes=None,\n",
              "                      min_impurity_decrease=0.0, min_impurity_split=None,\n",
              "                      min_samples_leaf=30, min_samples_split=2,\n",
              "                      min_weight_fraction_leaf=0.0, n_estimators=30,\n",
              "                      n_jobs=None, oob_score=False, random_state=None,\n",
              "                      verbose=0, warm_start=False)"
            ]
          },
          "metadata": {
            "tags": []
          },
          "execution_count": 67
        }
      ]
    },
    {
      "cell_type": "code",
      "metadata": {
        "id": "TxHnN0KfRLUO",
        "colab_type": "code",
        "colab": {
          "base_uri": "https://localhost:8080/",
          "height": 600
        },
        "outputId": "bdadd99d-554c-45b2-b9a5-872bf908a10f"
      },
      "source": [
        "plt.figure(figsize=(12, 10))\n",
        "plt.plot(df_test['Date'], forest.predict(df_test['Date'].values.reshape(-1, 1)))\n",
        "plt.plot(df_train['Date'], close)\n",
        "plt.plot(df_test['Date'], df_test['Close'])\n",
        "plt.yscale('log')"
      ],
      "execution_count": 74,
      "outputs": [
        {
          "output_type": "display_data",
          "data": {
            "image/png": "[encoded data removed]",
            "text/plain": [
              "<Figure size 864x720 with 1 Axes>"
            ]
          },
          "metadata": {
            "tags": []
          }
        }
      ]
    },
    {
      "cell_type": "code",
      "metadata": {
        "id": "mvmAKZW6R0jw",
        "colab_type": "code",
        "colab": {}
      },
      "source": [
        ""
      ],
      "execution_count": 0,
      "outputs": []
    }
  ]
}