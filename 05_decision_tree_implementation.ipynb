{
  "nbformat": 4,
  "nbformat_minor": 0,
  "metadata": {
    "colab": {
      "name": "Untitled30.ipynb",
      "version": "0.3.2",
      "provenance": [],
      "include_colab_link": true
    },
    "kernelspec": {
      "name": "python3",
      "display_name": "Python 3"
    },
    "accelerator": "GPU"
  },
  "cells": [
    {
      "cell_type": "markdown",
      "metadata": {
        "id": "view-in-github",
        "colab_type": "text"
      },
      "source": [
        "<a href=\"https://colab.research.google.com/github/krakowiakpawel9/decision_tree_course/blob/master/05_decision_tree_implementation.ipynb\" target=\"_parent\"><img src=\"https://colab.research.google.com/assets/colab-badge.svg\" alt=\"Open In Colab\"/></a>"
      ]
    },
    {
      "cell_type": "code",
      "metadata": {
        "id": "KG5t0d2ArMNY",
        "colab_type": "code",
        "colab": {}
      },
      "source": [
        "import numpy as np\n",
        "import pandas as pd\n",
        "\n",
        "# https://medium.com/@rakendd/decision-tree-from-scratch-9e23bcfb4928"
      ],
      "execution_count": 0,
      "outputs": []
    },
    {
      "cell_type": "code",
      "metadata": {
        "id": "oKdG5kQNsrLy",
        "colab_type": "code",
        "colab": {}
      },
      "source": [
        "# najmniejsza reprezentowalna liczba\n",
        "epsilon = np.finfo(float).eps"
      ],
      "execution_count": 0,
      "outputs": []
    },
    {
      "cell_type": "code",
      "metadata": {
        "id": "depL66i4t9iE",
        "colab_type": "code",
        "colab": {}
      },
      "source": [
        "dataset = {'Taste':['Salty','Spicy','Spicy','Spicy','Spicy','Sweet','Salty','Sweet','Spicy','Salty'],\n",
        "       'Temperature':['Hot','Hot','Hot','Cold','Hot','Cold','Cold','Hot','Cold','Hot'],\n",
        "       'Texture':['Soft','Soft','Hard','Hard','Hard','Soft','Soft','Soft','Soft','Hard'],\n",
        "       'Eat':['No','No','Yes','No','Yes','Yes','No','Yes','Yes','Yes']}"
      ],
      "execution_count": 0,
      "outputs": []
    },
    {
      "cell_type": "code",
      "metadata": {
        "id": "cG35FZPcuIjD",
        "colab_type": "code",
        "outputId": "ff1b72ec-9cb1-4c34-cc50-962de294028f",
        "colab": {
          "base_uri": "https://localhost:8080/",
          "height": 347
        }
      },
      "source": [
        "df = pd.DataFrame(dataset)\n",
        "df"
      ],
      "execution_count": 0,
      "outputs": [
        {
          "output_type": "execute_result",
          "data": {
            "text/html": [
              "<div>\n",
              "<style scoped>\n",
              "    .dataframe tbody tr th:only-of-type {\n",
              "        vertical-align: middle;\n",
              "    }\n",
              "\n",
              "    .dataframe tbody tr th {\n",
              "        vertical-align: top;\n",
              "    }\n",
              "\n",
              "    .dataframe thead th {\n",
              "        text-align: right;\n",
              "    }\n",
              "</style>\n",
              "<table border=\"1\" class=\"dataframe\">\n",
              "  <thead>\n",
              "    <tr style=\"text-align: right;\">\n",
              "      <th></th>\n",
              "      <th>Taste</th>\n",
              "      <th>Temperature</th>\n",
              "      <th>Texture</th>\n",
              "      <th>Eat</th>\n",
              "    </tr>\n",
              "  </thead>\n",
              "  <tbody>\n",
              "    <tr>\n",
              "      <th>0</th>\n",
              "      <td>Salty</td>\n",
              "      <td>Hot</td>\n",
              "      <td>Soft</td>\n",
              "      <td>No</td>\n",
              "    </tr>\n",
              "    <tr>\n",
              "      <th>1</th>\n",
              "      <td>Spicy</td>\n",
              "      <td>Hot</td>\n",
              "      <td>Soft</td>\n",
              "      <td>No</td>\n",
              "    </tr>\n",
              "    <tr>\n",
              "      <th>2</th>\n",
              "      <td>Spicy</td>\n",
              "      <td>Hot</td>\n",
              "      <td>Hard</td>\n",
              "      <td>Yes</td>\n",
              "    </tr>\n",
              "    <tr>\n",
              "      <th>3</th>\n",
              "      <td>Spicy</td>\n",
              "      <td>Cold</td>\n",
              "      <td>Hard</td>\n",
              "      <td>No</td>\n",
              "    </tr>\n",
              "    <tr>\n",
              "      <th>4</th>\n",
              "      <td>Spicy</td>\n",
              "      <td>Hot</td>\n",
              "      <td>Hard</td>\n",
              "      <td>Yes</td>\n",
              "    </tr>\n",
              "    <tr>\n",
              "      <th>5</th>\n",
              "      <td>Sweet</td>\n",
              "      <td>Cold</td>\n",
              "      <td>Soft</td>\n",
              "      <td>Yes</td>\n",
              "    </tr>\n",
              "    <tr>\n",
              "      <th>6</th>\n",
              "      <td>Salty</td>\n",
              "      <td>Cold</td>\n",
              "      <td>Soft</td>\n",
              "      <td>No</td>\n",
              "    </tr>\n",
              "    <tr>\n",
              "      <th>7</th>\n",
              "      <td>Sweet</td>\n",
              "      <td>Hot</td>\n",
              "      <td>Soft</td>\n",
              "      <td>Yes</td>\n",
              "    </tr>\n",
              "    <tr>\n",
              "      <th>8</th>\n",
              "      <td>Spicy</td>\n",
              "      <td>Cold</td>\n",
              "      <td>Soft</td>\n",
              "      <td>Yes</td>\n",
              "    </tr>\n",
              "    <tr>\n",
              "      <th>9</th>\n",
              "      <td>Salty</td>\n",
              "      <td>Hot</td>\n",
              "      <td>Hard</td>\n",
              "      <td>Yes</td>\n",
              "    </tr>\n",
              "  </tbody>\n",
              "</table>\n",
              "</div>"
            ],
            "text/plain": [
              "   Taste Temperature Texture  Eat\n",
              "0  Salty         Hot    Soft   No\n",
              "1  Spicy         Hot    Soft   No\n",
              "2  Spicy         Hot    Hard  Yes\n",
              "3  Spicy        Cold    Hard   No\n",
              "4  Spicy         Hot    Hard  Yes\n",
              "5  Sweet        Cold    Soft  Yes\n",
              "6  Salty        Cold    Soft   No\n",
              "7  Sweet         Hot    Soft  Yes\n",
              "8  Spicy        Cold    Soft  Yes\n",
              "9  Salty         Hot    Hard  Yes"
            ]
          },
          "metadata": {
            "tags": []
          },
          "execution_count": 16
        }
      ]
    },
    {
      "cell_type": "code",
      "metadata": {
        "id": "3Ki0sGPCuJvj",
        "colab_type": "code",
        "colab": {}
      },
      "source": [
        ""
      ],
      "execution_count": 0,
      "outputs": []
    },
    {
      "cell_type": "markdown",
      "metadata": {
        "id": "0tOJqusiuXXX",
        "colab_type": "text"
      },
      "source": [
        "### Entropia:\n",
        "### $$E = - \\sum_{i=1}^{N}p_{i} \\cdot log_{2}p_{i}$$\n",
        "\n",
        "gdzie $p_{i}$ jest proporcją  liczby elementów w tej grupie podziału do liczby elementów w grupie przed podziałem"
      ]
    },
    {
      "cell_type": "code",
      "metadata": {
        "id": "A1ycgal9uhuT",
        "colab_type": "code",
        "outputId": "452dc090-89ea-4bac-8b30-19bdf4da506a",
        "colab": {
          "base_uri": "https://localhost:8080/",
          "height": 34
        }
      },
      "source": [
        "entropy_node = 0\n",
        "values = df.Eat.unique()\n",
        "\n",
        "for value in values:\n",
        "    fraction = df.Eat.value_counts()[value] / len(df.Eat)\n",
        "    entropy_node += -fraction * np.log2(fraction)\n",
        "    \n",
        "entropy_node    "
      ],
      "execution_count": 0,
      "outputs": [
        {
          "output_type": "execute_result",
          "data": {
            "text/plain": [
              "0.9709505944546686"
            ]
          },
          "metadata": {
            "tags": []
          },
          "execution_count": 31
        }
      ]
    },
    {
      "cell_type": "code",
      "metadata": {
        "id": "anI6tqdNvllo",
        "colab_type": "code",
        "colab": {}
      },
      "source": [
        "def calc_entropy(attribute):\n",
        "    target_variables = df.Eat.unique()\n",
        "    variables = df[attribute].unique()\n",
        "    entropy_attribute = 0\n",
        "    for variable in variables:\n",
        "        entropy_each_feature = 0\n",
        "        for target_variable in target_variables:\n",
        "            num = len(df[attribute][df[attribute] == variable][df.Eat == target_variable])\n",
        "            den = len(df[attribute][df[attribute] == variable])\n",
        "            fraction = num / (den + epsilon)\n",
        "            entropy_each_feature += -fraction * np.log2(fraction + epsilon)\n",
        "        fraction2 = den / len(df)\n",
        "        entropy_attribute += -fraction2 * entropy_each_feature\n",
        "    entropy_attribute = abs(entropy_attribute)\n",
        "    return entropy_attribute"
      ],
      "execution_count": 0,
      "outputs": []
    },
    {
      "cell_type": "code",
      "metadata": {
        "id": "g76sroKP0MV-",
        "colab_type": "code",
        "colab": {}
      },
      "source": [
        "def information_gain(entropy_node, entropy_attribute):\n",
        "    return entropy_node - entropy_attribute"
      ],
      "execution_count": 0,
      "outputs": []
    },
    {
      "cell_type": "code",
      "metadata": {
        "id": "Aunz5gPs0gJP",
        "colab_type": "code",
        "colab": {}
      },
      "source": [
        "entropy_Taste = calc_entropy('Taste')\n",
        "entropy_Temp = calc_entropy('Temperature')\n",
        "entropy_Texture = calc_entropy('Texture')"
      ],
      "execution_count": 0,
      "outputs": []
    },
    {
      "cell_type": "code",
      "metadata": {
        "id": "ljV66E_Z0gBY",
        "colab_type": "code",
        "outputId": "4c3bdbcf-2b75-4050-9c01-f8e436331b63",
        "colab": {
          "base_uri": "https://localhost:8080/",
          "height": 70
        }
      },
      "source": [
        "ig_Taste = information_gain(entropy_node, entropy_Taste)\n",
        "ig_Temp = information_gain(entropy_node, entropy_Temp)\n",
        "ig_Texture = information_gain(entropy_node, entropy_Texture)\n",
        "\n",
        "print('Zysk informacyjny {}: {}'.format('Taste', round(ig_Taste, 4)))\n",
        "print('Zysk informacyjny {}: {}'.format('Temperature', round(ig_Temp, 4)))\n",
        "print('Zysk informacyjny {}: {}'.format('Texture', round(ig_Texture, 4)))"
      ],
      "execution_count": 0,
      "outputs": [
        {
          "output_type": "stream",
          "text": [
            "Zysk informacyjny Taste: 0.21\n",
            "Zysk informacyjny Temperature: 0.02\n",
            "Zysk informacyjny Texture: 0.0464\n"
          ],
          "name": "stdout"
        }
      ]
    },
    {
      "cell_type": "code",
      "metadata": {
        "id": "80iWXt6x0_yC",
        "colab_type": "code",
        "colab": {}
      },
      "source": [
        "def find_entropy(df):\n",
        "    label = df.keys()[-1]\n",
        "    entropy = 0\n",
        "    values = df[label].unique()\n",
        "    for value in values:\n",
        "        fraction = df[label].value_counts()[value] / len(df[label])\n",
        "        entropy += -fraction * np.log2(fraction)\n",
        "    return entropy\n",
        "\n",
        "def find_entropy_attribute(df, attribute):\n",
        "    label = df.keys()[-1]\n",
        "    target_variables = df[label].unique()\n",
        "    variables = df[attribute].unique()\n",
        "    entropy2 = 0\n",
        "    for variable in variables:\n",
        "        entropy = 0\n",
        "        for target_variable in target_variables:\n",
        "            num = len(df[attribute][df[attribute] == variable][df[label] == target_variable])\n",
        "            den = len(df[attribute][df[attribute] == variable])\n",
        "            fraction = num / (den + epsilon)\n",
        "            entropy += - fraction * np.log2(fraction + epsilon)\n",
        "        fraction2 = den / len(df)\n",
        "        entropy2 += - fraction2 * entropy\n",
        "    return abs(entropy2)\n",
        "    \n",
        "    \n",
        "def find_winner(df):\n",
        "    entropy_attr = []\n",
        "    IG = []\n",
        "    for key in df.keys()[:-1]:\n",
        "        IG.append(find_entropy(df) - find_entropy_attribute(df, key))\n",
        "    return df.keys()[:-1][np.argmax(IG)]\n",
        "\n",
        "def get_subtable(df, node, value):\n",
        "    return df[df[node] == value].reset_index(drop=True)\n",
        "\n",
        "def build_tree(df, tree=None):\n",
        "    \n",
        "    label = df.keys()[-1]\n",
        "    \n",
        "    node = find_winner(df)\n",
        "    \n",
        "    att_values = np.unique(df[node])\n",
        "    \n",
        "    if tree is None:\n",
        "        tree = {}\n",
        "        tree[node] = {}\n",
        "        \n",
        "    for value in att_values:\n",
        "        \n",
        "        subtable = get_subtable(df, node, value)\n",
        "        cl_value, counts = np.unique(subtable['Eat'], return_counts=True)\n",
        "        \n",
        "        if len(counts) == 1:\n",
        "            tree[node][value] = cl_value[0]\n",
        "        else:\n",
        "            tree[node][value] = build_tree(subtable)\n",
        "            \n",
        "    return tree"
      ],
      "execution_count": 0,
      "outputs": []
    },
    {
      "cell_type": "code",
      "metadata": {
        "id": "U0jffTEV3j9u",
        "colab_type": "code",
        "outputId": "cbdb8d5e-4e67-4edf-ec31-6b3439374f5f",
        "colab": {
          "base_uri": "https://localhost:8080/",
          "height": 87
        }
      },
      "source": [
        "tree = build_tree(df)\n",
        "tree"
      ],
      "execution_count": 0,
      "outputs": [
        {
          "output_type": "execute_result",
          "data": {
            "text/plain": [
              "{'Taste': {'Salty': {'Texture': {'Hard': 'Yes', 'Soft': 'No'}},\n",
              "  'Spicy': {'Temperature': {'Cold': {'Texture': {'Hard': 'No', 'Soft': 'Yes'}},\n",
              "    'Hot': {'Texture': {'Hard': 'Yes', 'Soft': 'No'}}}},\n",
              "  'Sweet': 'Yes'}}"
            ]
          },
          "metadata": {
            "tags": []
          },
          "execution_count": 85
        }
      ]
    },
    {
      "cell_type": "code",
      "metadata": {
        "id": "y0lU9CRA5pMa",
        "colab_type": "code",
        "outputId": "0ae622c0-825d-45c6-d16a-6e474753bb38",
        "colab": {
          "base_uri": "https://localhost:8080/",
          "height": 123
        }
      },
      "source": [
        "import pprint\n",
        "pprint.pprint(tree)"
      ],
      "execution_count": 0,
      "outputs": [
        {
          "output_type": "stream",
          "text": [
            "{'Taste': {'Salty': {'Texture': {'Hard': 'Yes', 'Soft': 'No'}},\n",
            "           'Spicy': {'Temperature': {'Cold': {'Texture': {'Hard': 'No',\n",
            "                                                          'Soft': 'Yes'}},\n",
            "                                     'Hot': {'Texture': {'Hard': 'Yes',\n",
            "                                                         'Soft': 'No'}}}},\n",
            "           'Sweet': 'Yes'}}\n"
          ],
          "name": "stdout"
        }
      ]
    },
    {
      "cell_type": "code",
      "metadata": {
        "id": "2tzct1fu65IU",
        "colab_type": "code",
        "colab": {}
      },
      "source": [
        "def predict(inst, tree):\n",
        "    \n",
        "    for nodes in tree.keys():\n",
        "        \n",
        "        value = inst[nodes]\n",
        "        tree = tree[nodes][value]\n",
        "        prediction = 0\n",
        "        \n",
        "        if type(tree) is dict:\n",
        "            prediction = predict(inst, tree)\n",
        "        else:\n",
        "            prediction = tree\n",
        "            break\n",
        "    return prediction"
      ],
      "execution_count": 0,
      "outputs": []
    },
    {
      "cell_type": "code",
      "metadata": {
        "id": "tplbWUK47dmT",
        "colab_type": "code",
        "outputId": "b799f194-052a-4eb5-eedf-3a9f0a157741",
        "colab": {
          "base_uri": "https://localhost:8080/",
          "height": 105
        }
      },
      "source": [
        "inst = df.iloc[6]\n",
        "inst"
      ],
      "execution_count": 0,
      "outputs": [
        {
          "output_type": "execute_result",
          "data": {
            "text/plain": [
              "Taste          Salty\n",
              "Temperature     Cold\n",
              "Texture         Soft\n",
              "Eat               No\n",
              "Name: 6, dtype: object"
            ]
          },
          "metadata": {
            "tags": []
          },
          "execution_count": 92
        }
      ]
    },
    {
      "cell_type": "code",
      "metadata": {
        "id": "DqzqTDA_7g5y",
        "colab_type": "code",
        "outputId": "ccb73378-9522-4988-bd4f-db6daa36ea00",
        "colab": {
          "base_uri": "https://localhost:8080/",
          "height": 34
        }
      },
      "source": [
        "predict(inst, tree)"
      ],
      "execution_count": 0,
      "outputs": [
        {
          "output_type": "execute_result",
          "data": {
            "text/plain": [
              "'No'"
            ]
          },
          "metadata": {
            "tags": []
          },
          "execution_count": 93
        }
      ]
    },
    {
      "cell_type": "code",
      "metadata": {
        "id": "nySjZ7Ph7klL",
        "colab_type": "code",
        "colab": {}
      },
      "source": [
        ""
      ],
      "execution_count": 0,
      "outputs": []
    }
  ]
}