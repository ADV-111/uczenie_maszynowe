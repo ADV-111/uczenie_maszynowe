{
  "nbformat": 4,
  "nbformat_minor": 0,
  "metadata": {
    "colab": {
      "name": "Untitled48.ipynb",
      "version": "0.3.2",
      "provenance": [],
      "include_colab_link": true
    },
    "kernelspec": {
      "name": "python3",
      "display_name": "Python 3"
    }
  },
  "cells": [
    {
      "cell_type": "markdown",
      "metadata": {
        "id": "view-in-github",
        "colab_type": "text"
      },
      "source": [
        "<a href=\"https://colab.research.google.com/github/krakowiakpawel9/decision_tree_course/blob/master/11_use_cases.ipynb\" target=\"_parent\"><img src=\"https://colab.research.google.com/assets/colab-badge.svg\" alt=\"Open In Colab\"/></a>"
      ]
    },
    {
      "cell_type": "markdown",
      "metadata": {
        "id": "42sor08-M22j",
        "colab_type": "text"
      },
      "source": [
        "### Przykłady zastosowań\n",
        "\n",
        "> sektor bankowy:\n",
        " - klient lojalny / fraud\n",
        " - transakcja poprawna / transakcja fraudowa\n",
        " - pożyczka: udzielić / nie udzielić\n",
        " - pożyczka: spłacona / default\n",
        " \n",
        " > medycyna:\n",
        "  - analza zdjęć rentgenowskich\n",
        "  - analiza składu leku\n",
        " \n",
        " > rynek finansowy\n",
        "  - analizy rynku akcyjnego\n",
        "  - oczekiwana strata / zysk\n",
        "  \n",
        "  > e-commerce\n",
        "   - rekomendowanie produktów (systemy rekomendacyjne)\n",
        "   - \n",
        "        "
      ]
    },
    {
      "cell_type": "code",
      "metadata": {
        "id": "N9kHmWCHyCYT",
        "colab_type": "code",
        "colab": {}
      },
      "source": [
        ""
      ],
      "execution_count": 0,
      "outputs": []
    }
  ]
}