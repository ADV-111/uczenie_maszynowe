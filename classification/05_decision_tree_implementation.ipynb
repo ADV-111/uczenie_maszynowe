{
  "nbformat": 4,
  "nbformat_minor": 0,
  "metadata": {
    "colab": {
      "name": "Untitled30.ipynb",
      "version": "0.3.2",
      "provenance": [],
      "include_colab_link": true
    },
    "kernelspec": {
      "name": "python3",
      "display_name": "Python 3"
    },
    "accelerator": "GPU"
  },
  "cells": [
    {
      "cell_type": "markdown",
      "metadata": {
        "id": "view-in-github",
        "colab_type": "text"
      },
      "source": [
        "<a href=\"https://colab.research.google.com/github/krakowiakpawel9/decision_tree_course/blob/master/05_decision_tree_implementation.ipynb\" target=\"_parent\"><img src=\"https://colab.research.google.com/assets/colab-badge.svg\" alt=\"Open In Colab\"/></a>"
      ]
    },
    {
      "cell_type": "code",
      "metadata": {
        "id": "KG5t0d2ArMNY",
        "colab_type": "code",
        "colab": {}
      },
      "source": [
        "import numpy as np\n",
        "import pandas as pd\n",
        "\n",
        "# https://medium.com/@rakendd/decision-tree-from-scratch-9e23bcfb4928"
      ],
      "execution_count": 0,
      "outputs": []
    },
    {
      "cell_type": "code",
      "metadata": {
        "id": "oKdG5kQNsrLy",
        "colab_type": "code",
        "colab": {}
      },
      "source": [
        "# najmniejsza reprezentowalna liczba\n",
        "epsilon = np.finfo(float).eps"
      ],
      "execution_count": 0,
      "outputs": []
    },
    {
      "cell_type": "code",
      "metadata": {
        "id": "depL66i4t9iE",
        "colab_type": "code",
        "colab": {}
      },
      "source": [
        "dataset = {'Dochód':['niski','średni','średni','średni','średni','wysoki','niski','wysoki','średni','niski'],\n",
        "       'Wiek':[25, 36, 36, 25 ,28, 28, 25, 25, 36 ,36],\n",
        "       'Wiarygodność':['niska','średnia','wysoka','niska','średnia','wysoka','niska','wysoka','średnia','średnia'],\n",
        "       'Pożyczka':['Nie','Tak','Tak','Nie','Tak','Tak','Nie','Tak','Tak','Nie']}"
      ],
      "execution_count": 0,
      "outputs": []
    },
    {
      "cell_type": "code",
      "metadata": {
        "id": "cG35FZPcuIjD",
        "colab_type": "code",
        "outputId": "15db772d-9801-4bc4-9595-fd04a7c3b58b",
        "colab": {
          "base_uri": "https://localhost:8080/",
          "height": 359
        }
      },
      "source": [
        "df = pd.DataFrame(dataset)\n",
        "df"
      ],
      "execution_count": 24,
      "outputs": [
        {
          "output_type": "execute_result",
          "data": {
            "text/html": [
              "<div>\n",
              "<style scoped>\n",
              "    .dataframe tbody tr th:only-of-type {\n",
              "        vertical-align: middle;\n",
              "    }\n",
              "\n",
              "    .dataframe tbody tr th {\n",
              "        vertical-align: top;\n",
              "    }\n",
              "\n",
              "    .dataframe thead th {\n",
              "        text-align: right;\n",
              "    }\n",
              "</style>\n",
              "<table border=\"1\" class=\"dataframe\">\n",
              "  <thead>\n",
              "    <tr style=\"text-align: right;\">\n",
              "      <th></th>\n",
              "      <th>Dochód</th>\n",
              "      <th>Wiek</th>\n",
              "      <th>Wiarygodność</th>\n",
              "      <th>Pożyczka</th>\n",
              "    </tr>\n",
              "  </thead>\n",
              "  <tbody>\n",
              "    <tr>\n",
              "      <th>0</th>\n",
              "      <td>niski</td>\n",
              "      <td>25</td>\n",
              "      <td>niska</td>\n",
              "      <td>Nie</td>\n",
              "    </tr>\n",
              "    <tr>\n",
              "      <th>1</th>\n",
              "      <td>średni</td>\n",
              "      <td>36</td>\n",
              "      <td>średnia</td>\n",
              "      <td>Tak</td>\n",
              "    </tr>\n",
              "    <tr>\n",
              "      <th>2</th>\n",
              "      <td>średni</td>\n",
              "      <td>36</td>\n",
              "      <td>wysoka</td>\n",
              "      <td>Tak</td>\n",
              "    </tr>\n",
              "    <tr>\n",
              "      <th>3</th>\n",
              "      <td>średni</td>\n",
              "      <td>25</td>\n",
              "      <td>niska</td>\n",
              "      <td>Nie</td>\n",
              "    </tr>\n",
              "    <tr>\n",
              "      <th>4</th>\n",
              "      <td>średni</td>\n",
              "      <td>28</td>\n",
              "      <td>średnia</td>\n",
              "      <td>Tak</td>\n",
              "    </tr>\n",
              "    <tr>\n",
              "      <th>5</th>\n",
              "      <td>wysoki</td>\n",
              "      <td>28</td>\n",
              "      <td>wysoka</td>\n",
              "      <td>Tak</td>\n",
              "    </tr>\n",
              "    <tr>\n",
              "      <th>6</th>\n",
              "      <td>niski</td>\n",
              "      <td>25</td>\n",
              "      <td>niska</td>\n",
              "      <td>Nie</td>\n",
              "    </tr>\n",
              "    <tr>\n",
              "      <th>7</th>\n",
              "      <td>wysoki</td>\n",
              "      <td>25</td>\n",
              "      <td>wysoka</td>\n",
              "      <td>Tak</td>\n",
              "    </tr>\n",
              "    <tr>\n",
              "      <th>8</th>\n",
              "      <td>średni</td>\n",
              "      <td>36</td>\n",
              "      <td>średnia</td>\n",
              "      <td>Tak</td>\n",
              "    </tr>\n",
              "    <tr>\n",
              "      <th>9</th>\n",
              "      <td>niski</td>\n",
              "      <td>36</td>\n",
              "      <td>średnia</td>\n",
              "      <td>Nie</td>\n",
              "    </tr>\n",
              "  </tbody>\n",
              "</table>\n",
              "</div>"
            ],
            "text/plain": [
              "   Dochód  Wiek Wiarygodność Pożyczka\n",
              "0   niski    25        niska      Nie\n",
              "1  średni    36      średnia      Tak\n",
              "2  średni    36       wysoka      Tak\n",
              "3  średni    25        niska      Nie\n",
              "4  średni    28      średnia      Tak\n",
              "5  wysoki    28       wysoka      Tak\n",
              "6   niski    25        niska      Nie\n",
              "7  wysoki    25       wysoka      Tak\n",
              "8  średni    36      średnia      Tak\n",
              "9   niski    36      średnia      Nie"
            ]
          },
          "metadata": {
            "tags": []
          },
          "execution_count": 24
        }
      ]
    },
    {
      "cell_type": "markdown",
      "metadata": {
        "id": "0tOJqusiuXXX",
        "colab_type": "text"
      },
      "source": [
        "### Entropia:\n",
        "### $$E = - \\sum_{i=1}^{N}p_{i} \\cdot log_{2}p_{i}$$\n",
        "\n",
        "gdzie $p_{i}$ jest proporcją  liczby elementów w tej grupie podziału do liczby elementów w grupie przed podziałem"
      ]
    },
    {
      "cell_type": "code",
      "metadata": {
        "id": "A1ycgal9uhuT",
        "colab_type": "code",
        "outputId": "aee730a3-2a0e-46d4-d39b-66436c2d76d1",
        "colab": {
          "base_uri": "https://localhost:8080/",
          "height": 34
        }
      },
      "source": [
        "entropy_node = 0\n",
        "values = df.Pożyczka.unique()\n",
        "\n",
        "for value in values:\n",
        "    fraction = df.Pożyczka.value_counts()[value] / len(df.Pożyczka)\n",
        "    entropy_node += -fraction * np.log2(fraction)\n",
        "    \n",
        "entropy_node    "
      ],
      "execution_count": 25,
      "outputs": [
        {
          "output_type": "execute_result",
          "data": {
            "text/plain": [
              "0.9709505944546686"
            ]
          },
          "metadata": {
            "tags": []
          },
          "execution_count": 25
        }
      ]
    },
    {
      "cell_type": "code",
      "metadata": {
        "id": "anI6tqdNvllo",
        "colab_type": "code",
        "colab": {}
      },
      "source": [
        "def calc_entropy(attribute):\n",
        "    target_variables = df.Pożyczka.unique()\n",
        "    variables = df[attribute].unique()\n",
        "    entropy_attribute = 0\n",
        "    for variable in variables:\n",
        "        entropy_each_feature = 0\n",
        "        for target_variable in target_variables:\n",
        "            num = len(df[attribute][df[attribute] == variable][df.Pożyczka == target_variable])\n",
        "            den = len(df[attribute][df[attribute] == variable])\n",
        "            fraction = num / (den + epsilon)\n",
        "            entropy_each_feature += -fraction * np.log2(fraction + epsilon)\n",
        "        fraction2 = den / len(df)\n",
        "        entropy_attribute += -fraction2 * entropy_each_feature\n",
        "    entropy_attribute = abs(entropy_attribute)\n",
        "    return entropy_attribute"
      ],
      "execution_count": 0,
      "outputs": []
    },
    {
      "cell_type": "code",
      "metadata": {
        "id": "g76sroKP0MV-",
        "colab_type": "code",
        "colab": {}
      },
      "source": [
        "def information_gain(entropy_node, entropy_attribute):\n",
        "    return entropy_node - entropy_attribute"
      ],
      "execution_count": 0,
      "outputs": []
    },
    {
      "cell_type": "code",
      "metadata": {
        "id": "Aunz5gPs0gJP",
        "colab_type": "code",
        "colab": {}
      },
      "source": [
        "entropy_Dochod = calc_entropy('Dochód')\n",
        "entropy_Wiek = calc_entropy('Wiek')\n",
        "entropy_Wiarygodnosc = calc_entropy('Wiarygodność')"
      ],
      "execution_count": 0,
      "outputs": []
    },
    {
      "cell_type": "code",
      "metadata": {
        "id": "ljV66E_Z0gBY",
        "colab_type": "code",
        "outputId": "6910cf5a-bc4e-4027-a931-edf3d2154007",
        "colab": {
          "base_uri": "https://localhost:8080/",
          "height": 68
        }
      },
      "source": [
        "ig_Dochod = information_gain(entropy_node, entropy_Dochod)\n",
        "ig_Wiek = information_gain(entropy_node, entropy_Wiek)\n",
        "ig_Wiarygodnosc = information_gain(entropy_node, entropy_Wiarygodnosc)\n",
        "\n",
        "print('Zysk informacyjny {}: {}'.format('Dochód', round(ig_Dochod, 4)))\n",
        "print('Zysk informacyjny {}: {}'.format('Wiek', round(ig_Wiek, 4)))\n",
        "print('Zysk informacyjny {}: {}'.format('Wiarygodność', round(ig_Wiarygodnosc, 4)))"
      ],
      "execution_count": 27,
      "outputs": [
        {
          "output_type": "stream",
          "text": [
            "Zysk informacyjny Dochód: 0.61\n",
            "Zysk informacyjny Wiek: 0.3219\n",
            "Zysk informacyjny Wiarygodność: 0.6464\n"
          ],
          "name": "stdout"
        }
      ]
    },
    {
      "cell_type": "code",
      "metadata": {
        "id": "80iWXt6x0_yC",
        "colab_type": "code",
        "colab": {}
      },
      "source": [
        "def find_entropy(df):\n",
        "    label = df.keys()[-1]\n",
        "    entropy = 0\n",
        "    values = df[label].unique()\n",
        "    for value in values:\n",
        "        fraction = df[label].value_counts()[value] / len(df[label])\n",
        "        entropy += -fraction * np.log2(fraction)\n",
        "    return entropy\n",
        "\n",
        "def find_entropy_attribute(df, attribute):\n",
        "    label = df.keys()[-1]\n",
        "    target_variables = df[label].unique()\n",
        "    variables = df[attribute].unique()\n",
        "    entropy2 = 0\n",
        "    for variable in variables:\n",
        "        entropy = 0\n",
        "        for target_variable in target_variables:\n",
        "            num = len(df[attribute][df[attribute] == variable][df[label] == target_variable])\n",
        "            den = len(df[attribute][df[attribute] == variable])\n",
        "            fraction = num / (den + epsilon)\n",
        "            entropy += - fraction * np.log2(fraction + epsilon)\n",
        "        fraction2 = den / len(df)\n",
        "        entropy2 += - fraction2 * entropy\n",
        "    return abs(entropy2)\n",
        "    \n",
        "    \n",
        "def find_winner(df):\n",
        "    entropy_attr = []\n",
        "    IG = []\n",
        "    for key in df.keys()[:-1]:\n",
        "        IG.append(find_entropy(df) - find_entropy_attribute(df, key))\n",
        "    return df.keys()[:-1][np.argmax(IG)]\n",
        "\n",
        "def get_subtable(df, node, value):\n",
        "    return df[df[node] == value].reset_index(drop=True)\n",
        "\n",
        "def build_tree(df, tree=None):\n",
        "    \n",
        "    label = df.keys()[-1]\n",
        "    \n",
        "    node = find_winner(df)\n",
        "    \n",
        "    att_values = np.unique(df[node])\n",
        "    \n",
        "    if tree is None:\n",
        "        tree = {}\n",
        "        tree[node] = {}\n",
        "        \n",
        "    for value in att_values:\n",
        "        \n",
        "        subtable = get_subtable(df, node, value)\n",
        "        cl_value, counts = np.unique(subtable['Pożyczka'], return_counts=True)\n",
        "        \n",
        "        if len(counts) == 1:\n",
        "            tree[node][value] = cl_value[0]\n",
        "        else:\n",
        "            tree[node][value] = build_tree(subtable)\n",
        "            \n",
        "    return tree"
      ],
      "execution_count": 0,
      "outputs": []
    },
    {
      "cell_type": "code",
      "metadata": {
        "id": "U0jffTEV3j9u",
        "colab_type": "code",
        "outputId": "fa7d4f03-0c15-48c4-dbe9-739c2f8028c3",
        "colab": {
          "base_uri": "https://localhost:8080/",
          "height": 68
        }
      },
      "source": [
        "tree = build_tree(df)\n",
        "tree"
      ],
      "execution_count": 28,
      "outputs": [
        {
          "output_type": "execute_result",
          "data": {
            "text/plain": [
              "{'Wiarygodność': {'niska': 'Nie',\n",
              "  'wysoka': 'Tak',\n",
              "  'średnia': {'Dochód': {'niski': 'Nie', 'średni': 'Tak'}}}}"
            ]
          },
          "metadata": {
            "tags": []
          },
          "execution_count": 28
        }
      ]
    },
    {
      "cell_type": "code",
      "metadata": {
        "id": "y0lU9CRA5pMa",
        "colab_type": "code",
        "outputId": "e5030e08-249d-4981-89f1-6b2885cb90eb",
        "colab": {
          "base_uri": "https://localhost:8080/",
          "height": 68
        }
      },
      "source": [
        "import pprint\n",
        "pprint.pprint(tree)"
      ],
      "execution_count": 29,
      "outputs": [
        {
          "output_type": "stream",
          "text": [
            "{'Wiarygodność': {'niska': 'Nie',\n",
            "                  'wysoka': 'Tak',\n",
            "                  'średnia': {'Dochód': {'niski': 'Nie', 'średni': 'Tak'}}}}\n"
          ],
          "name": "stdout"
        }
      ]
    },
    {
      "cell_type": "code",
      "metadata": {
        "id": "2tzct1fu65IU",
        "colab_type": "code",
        "colab": {}
      },
      "source": [
        "def predict(inst, tree):\n",
        "    \n",
        "    for nodes in tree.keys():\n",
        "        \n",
        "        value = inst[nodes]\n",
        "        tree = tree[nodes][value]\n",
        "        prediction = 0\n",
        "        \n",
        "        if type(tree) is dict:\n",
        "            prediction = predict(inst, tree)\n",
        "        else:\n",
        "            prediction = tree\n",
        "            break\n",
        "    return prediction"
      ],
      "execution_count": 0,
      "outputs": []
    },
    {
      "cell_type": "code",
      "metadata": {
        "id": "tplbWUK47dmT",
        "colab_type": "code",
        "outputId": "a828953d-a4a6-459f-b1d3-55d15c86fc0b",
        "colab": {
          "base_uri": "https://localhost:8080/",
          "height": 102
        }
      },
      "source": [
        "inst = df.iloc[6]\n",
        "inst"
      ],
      "execution_count": 31,
      "outputs": [
        {
          "output_type": "execute_result",
          "data": {
            "text/plain": [
              "Dochód          niski\n",
              "Wiek               25\n",
              "Wiarygodność    niska\n",
              "Pożyczka          Nie\n",
              "Name: 6, dtype: object"
            ]
          },
          "metadata": {
            "tags": []
          },
          "execution_count": 31
        }
      ]
    },
    {
      "cell_type": "code",
      "metadata": {
        "id": "DqzqTDA_7g5y",
        "colab_type": "code",
        "outputId": "94cfd37c-56d1-4847-af0d-ea5909cadb95",
        "colab": {
          "base_uri": "https://localhost:8080/",
          "height": 34
        }
      },
      "source": [
        "predict(inst, tree)"
      ],
      "execution_count": 32,
      "outputs": [
        {
          "output_type": "execute_result",
          "data": {
            "text/plain": [
              "'Nie'"
            ]
          },
          "metadata": {
            "tags": []
          },
          "execution_count": 32
        }
      ]
    },
    {
      "cell_type": "code",
      "metadata": {
        "id": "nySjZ7Ph7klL",
        "colab_type": "code",
        "colab": {}
      },
      "source": [
        ""
      ],
      "execution_count": 0,
      "outputs": []
    }
  ]
}